{
 "cells": [
  {
   "cell_type": "markdown",
   "id": "59c1a01f-2a7a-4cfc-ba34-ec85321949c4",
   "metadata": {},
   "source": [
    "## ANPA Conference 2025_Certificate Code"
   ]
  },
  {
   "cell_type": "code",
   "execution_count": 11,
   "id": "9c33eece",
   "metadata": {},
   "outputs": [
    {
     "name": "stderr",
     "output_type": "stream",
     "text": [
      "/var/folders/1j/pqykghl10h7bm18rgj51hpnw0000gn/T/ipykernel_8790/191074073.py:48: FutureWarning: Series.__getitem__ treating keys as positions is deprecated. In a future version, integer keys will always be treated as labels (consistent with DataFrame behavior). To access a value by position, use `ser.iloc[pos]`\n",
      "  name = str(row[0]).strip()\n",
      "/var/folders/1j/pqykghl10h7bm18rgj51hpnw0000gn/T/ipykernel_8790/191074073.py:37: DeprecationWarning: getsize is deprecated and will be removed in Pillow 10 (2023-07-01). Use getbbox or getlength instead.\n",
      "  total_height = sum(font.getsize(line)[1] for line in lines) + line_spacing * (len(lines) - 1)\n",
      "/var/folders/1j/pqykghl10h7bm18rgj51hpnw0000gn/T/ipykernel_8790/191074073.py:41: DeprecationWarning: getsize is deprecated and will be removed in Pillow 10 (2023-07-01). Use getbbox or getlength instead.\n",
      "  line_width, line_height = font.getsize(line)\n"
     ]
    },
    {
     "name": "stdout",
     "output_type": "stream",
     "text": [
      "✅ Saved: certificates/NIRMAL_PANDEY.jpg\n",
      "✅ Saved: certificates/SWARUPA_DHAKAL.jpg\n",
      "✅ Saved: certificates/ABHINAB_PAUDEL.jpg\n",
      "✅ Saved: certificates/SAKSHI_BHATT.jpg\n",
      "✅ Saved: certificates/SHASHANK_SHETTY.jpg\n",
      "✅ Saved: certificates/AAYAM_MALAKAR.jpg\n",
      "✅ Saved: certificates/JASMINE_BHATTA.jpg\n",
      "✅ Saved: certificates/SAFALA_LAMICHHANE.jpg\n",
      "✅ Saved: certificates/PRASHAM_LUETEL.jpg\n",
      "✅ Saved: certificates/SASHWAT_BHATTARAI.jpg\n",
      "✅ Saved: certificates/PRANIT_CHAPAGAIN.jpg\n",
      "✅ Saved: certificates/PATRICK_BOMZAN.jpg\n",
      "✅ Saved: certificates/DIVYESH_BANIYA.jpg\n",
      "✅ Saved: certificates/SIDDARTHA_PANDEY.jpg\n",
      "✅ Saved: certificates/AVISH_SHRESTHA.jpg\n",
      "✅ Saved: certificates/NILAV_SHRESTHA.jpg\n",
      "✅ Saved: certificates/KEVIN_PANERU.jpg\n",
      "✅ Saved: certificates/JAY_KC.jpg\n",
      "✅ Saved: certificates/AAYAN_DHAKAL.jpg\n",
      "✅ Saved: certificates/SUBARNA_LAMICHHANE.jpg\n",
      "✅ Saved: certificates/PROLIN_NEUPANE.jpg\n",
      "✅ Saved: certificates/NISMA_PANDEY.jpg\n",
      "✅ Saved: certificates/KRISHAL_HADA.jpg\n",
      "✅ Saved: certificates/SUNIDHI_GAUTAM.jpg\n",
      "✅ Saved: certificates/ARAV_JOSHI.jpg\n",
      "✅ Saved: certificates/SUPRIM_BASYAL.jpg\n",
      "✅ Saved: certificates/PRITOSH_KANDEL.jpg\n",
      "✅ Saved: certificates/GARIMA_SHARMA.jpg\n",
      "✅ Saved: certificates/ALISHA_SHAH.jpg\n",
      "✅ Saved: certificates/ADITYA_JOSHI.jpg\n",
      "🎉 All certificates generated as optimized JPEGs!\n"
     ]
    }
   ],
   "source": [
    "from PIL import Image, ImageDraw, ImageFont\n",
    "import pandas as pd\n",
    "import os\n",
    "import textwrap\n",
    "template_path = '2.png' # template file of certificate\n",
    "excel_path = 'PER.xlsx'\n",
    "output_folder = 'certificates'\n",
    "font_path = 'arial.ttf'  # Update to full path if needed\n",
    "name_font_size = 200 # Font size for name\n",
    "work_font_size = 150\n",
    "name_color = 'black' # color\n",
    "work_color = 'black'  \n",
    "name_y = 2100 # position of name Print\n",
    "work_y = 2750\n",
    "max_chars_per_line = 70\n",
    "line_spacing = 20\n",
    "\n",
    "# Create output directory\n",
    "os.makedirs(output_folder, exist_ok=True)\n",
    "df = pd.read_excel(excel_path) # Load Excel data\n",
    "font_name = ImageFont.truetype(font_path, name_font_size) # Load fonts\n",
    "font_work = ImageFont.truetype(font_path, work_font_size)\n",
    "\n",
    "# Centered drawing function with character-based wrapping\n",
    "def draw_centered_text_by_chars(draw, text, y_pos, font, fill, image_width, max_chars_per_line=70, line_spacing=20):\n",
    "    lines = textwrap.wrap(text, width=max_chars_per_line)\n",
    "    total_height = sum(font.getsize(line)[1] for line in lines) + line_spacing * (len(lines) - 1)\n",
    "    current_y = y_pos - total_height // 2\n",
    "\n",
    "    for line in lines:\n",
    "        line_width, line_height = font.getsize(line)\n",
    "        x = (image_width - line_width) // 2\n",
    "        draw.text((x, current_y), line, font=font, fill=fill)\n",
    "        current_y += line_height + line_spacing\n",
    "for index, row in df.iterrows():\n",
    "    name = str(row[0]).strip()\n",
    "    work = str(row[1]).strip()\n",
    "\n",
    "    # Open and convert template to RGB (JPEG compatible)\n",
    "    image = Image.open(template_path).convert('RGB')\n",
    "    draw = ImageDraw.Draw(image)\n",
    "\n",
    "    # Draw name and research title\n",
    "    draw_centered_text_by_chars(draw, name, name_y, font_name, name_color, image.width)\n",
    "    draw_centered_text_by_chars(draw, work, work_y, font_work, work_color, image.width, max_chars_per_line, line_spacing)\n",
    "\n",
    "    # Safe filename\n",
    "    safe_name = name.replace(' ', '_').replace('/', '_')\n",
    "    output_path = os.path.join(output_folder, f\"{safe_name}.jpg\")\n",
    "\n",
    "    # Save as optimized JPEG\n",
    "    image.save(output_path, format='JPEG', quality=85, optimize=True)\n",
    "\n",
    "    print(f\"✅ Saved: {output_path}\")\n",
    "\n",
    "print(\"🎉 All certificates generated as optimized JPEGs!\")"
   ]
  },
  {
   "cell_type": "markdown",
   "id": "e094e281-37a7-4442-94d1-075c97f1d67e",
   "metadata": {},
   "source": [
    "# Code for Certificate if want to Print in Pdf format"
   ]
  },
  {
   "cell_type": "code",
   "execution_count": 31,
   "id": "1cb45b03",
   "metadata": {},
   "outputs": [
    {
     "name": "stdout",
     "output_type": "stream",
     "text": [
      "📄 Converted: ERROR/NAWAL_K._KHADKA.pdf\n",
      "📄 Converted: ERROR/FARZAM_JAVADPOUR_(Invited).pdf\n",
      "📄 Converted: ERROR/FARZAM_JAVADPOUR.pdf\n",
      "✅ All JPEGs converted to PDF.\n"
     ]
    }
   ],
   "source": [
    "from PIL import Image\n",
    "import os\n",
    "\n",
    "jpeg_folder = 'certificates'\n",
    "pdf_folder = 'ERROR'\n",
    "os.makedirs(pdf_folder, exist_ok=True)\n",
    "\n",
    "for filename in os.listdir(jpeg_folder):\n",
    "    if filename.lower().endswith('.jpg'):\n",
    "        img_path = os.path.join(jpeg_folder, filename)\n",
    "        pdf_path = os.path.join(pdf_folder, filename.replace('.jpg', '.pdf'))\n",
    "\n",
    "        image = Image.open(img_path).convert('RGB')\n",
    "        image.save(pdf_path, 'PDF', resolution=100.0)\n",
    "\n",
    "        print(f\"📄 Converted: {pdf_path}\")\n",
    "\n",
    "print(\"✅ All JPEGs converted to PDF.\")"
   ]
  },
  {
   "cell_type": "markdown",
   "id": "ce969411-4866-47a5-87a8-c2a079890424",
   "metadata": {},
   "source": [
    "## Kids Certificate Print only Name list in Certifcate"
   ]
  },
  {
   "cell_type": "code",
   "execution_count": null,
   "id": "ef95ff91-53dc-4417-8f3d-d79f015b6d62",
   "metadata": {},
   "outputs": [
    {
     "name": "stderr",
     "output_type": "stream",
     "text": [
      "/var/folders/1j/pqykghl10h7bm18rgj51hpnw0000gn/T/ipykernel_8790/3048711009.py:38: FutureWarning: Series.__getitem__ treating keys as positions is deprecated. In a future version, integer keys will always be treated as labels (consistent with DataFrame behavior). To access a value by position, use `ser.iloc[pos]`\n",
      "  name = str(row[0]).strip()\n",
      "/var/folders/1j/pqykghl10h7bm18rgj51hpnw0000gn/T/ipykernel_8790/3048711009.py:27: DeprecationWarning: getsize is deprecated and will be removed in Pillow 10 (2023-07-01). Use getbbox or getlength instead.\n",
      "  total_height = sum(font.getsize(line)[1] for line in lines) + line_spacing * (len(lines) - 1)\n",
      "/var/folders/1j/pqykghl10h7bm18rgj51hpnw0000gn/T/ipykernel_8790/3048711009.py:31: DeprecationWarning: getsize is deprecated and will be removed in Pillow 10 (2023-07-01). Use getbbox or getlength instead.\n",
      "  line_width, line_height = font.getsize(line)\n"
     ]
    },
    {
     "name": "stdout",
     "output_type": "stream",
     "text": [
      "✅ Saved: certificates/NIRMAL_PANDEY.jpg\n",
      "✅ Saved: certificates/SWARUPA_DHAKAL.jpg\n",
      "✅ Saved: certificates/ABHINAB_PAUDEL.jpg\n",
      "✅ Saved: certificates/SAKSHI_BHATT.jpg\n",
      "✅ Saved: certificates/SHASHANK_SHETTY.jpg\n",
      "✅ Saved: certificates/AAYAM_MALAKAR.jpg\n",
      "✅ Saved: certificates/JASMINE_BHATTA.jpg\n",
      "✅ Saved: certificates/SAFALA_LAMICHHANE.jpg\n"
     ]
    }
   ],
   "source": [
    "from PIL import Image, ImageDraw, ImageFont\n",
    "import pandas as pd\n",
    "import os\n",
    "import textwrap\n",
    "template_path = 'Junior.png'# template file name\n",
    "excel_path = 'Book1.xlsx'\n",
    "output_folder = 'certificates'\n",
    "font_path = 'arial.ttf'  # Update to full path if needed\n",
    "name_font_size = 200 # Font settings for name \n",
    "work_font_size = 150 # Font settings for work or titled\n",
    "name_color = 'black' # color \n",
    "work_color = 'black'  # Black research title\n",
    "\n",
    "name_y = 2000 # Layout positions name\n",
    "work_y = 2750 # Layout positions titled\n",
    "max_chars_per_line = 70 # maximum word in line\n",
    "line_spacing = 20\n",
    "\n",
    "os.makedirs(output_folder, exist_ok=True) # Create output directory\n",
    "df = pd.read_excel(excel_path) # Load Excel data\n",
    "font_name = ImageFont.truetype(font_path, name_font_size) # Load fonts\n",
    "font_work = ImageFont.truetype(font_path, work_font_size)\n",
    "\n",
    "# Centered drawing function with character-based wrapping\n",
    "def draw_centered_text_by_chars(draw, text, y_pos, font, fill, image_width, max_chars_per_line=70, line_spacing=20):\n",
    "    lines = textwrap.wrap(text, width=max_chars_per_line)\n",
    "    total_height = sum(font.getsize(line)[1] for line in lines) + line_spacing * (len(lines) - 1)\n",
    "    current_y = y_pos - total_height // 2\n",
    "\n",
    "    for line in lines:\n",
    "        line_width, line_height = font.getsize(line)\n",
    "        x = (image_width - line_width) // 2\n",
    "        draw.text((x, current_y), line, font=font, fill=fill)\n",
    "        current_y += line_height + line_spacing\n",
    "\n",
    "# === Certificate Generation ===\n",
    "for index, row in df.iterrows():\n",
    "    name = str(row[0]).strip()\n",
    "    # work = str(row[1]).strip()\n",
    "\n",
    "    # Open and convert template to RGB (JPEG compatible)\n",
    "    image = Image.open(template_path).convert('RGB')\n",
    "    draw = ImageDraw.Draw(image)\n",
    "\n",
    "    # Draw name and research title\n",
    "    draw_centered_text_by_chars(draw, name, name_y, font_name, name_color, image.width)\n",
    "    #draw_centered_text_by_chars(draw, work, work_y, font_work, work_color, image.width, max_chars_per_line, line_spacing)\n",
    "\n",
    "    # Safe filename\n",
    "    safe_name = name.replace(' ', '_').replace('/', '_')\n",
    "    output_path = os.path.join(output_folder, f\"{safe_name}.jpg\")\n",
    "\n",
    "    # Save as optimized JPEG\n",
    "    image.save(output_path, format='JPEG', quality=85, optimize=True)\n",
    "\n",
    "    print(f\"✅ Saved: {output_path}\")\n",
    "\n",
    "print(\"🎉 All certificates generated as optimized JPEGs!\")"
   ]
  },
  {
   "cell_type": "markdown",
   "id": "a1fcb102-a196-46d2-ae5c-dc61f8c2667a",
   "metadata": {},
   "source": [
    "## Cerficate in pdf"
   ]
  },
  {
   "cell_type": "code",
   "execution_count": null,
   "id": "2c6ad138-d4e6-4fa8-a010-7d4009155f2a",
   "metadata": {},
   "outputs": [],
   "source": [
    "from PIL import Image\n",
    "import os\n",
    "\n",
    "jpeg_folder = 'certificates'\n",
    "pdf_folder = 'ERROR'\n",
    "os.makedirs(pdf_folder, exist_ok=True)\n",
    "\n",
    "for filename in os.listdir(jpeg_folder):\n",
    "    if filename.lower().endswith('.jpg'):\n",
    "        img_path = os.path.join(jpeg_folder, filename)\n",
    "        pdf_path = os.path.join(pdf_folder, filename.replace('.jpg', '.pdf'))\n",
    "\n",
    "        image = Image.open(img_path).convert('RGB')\n",
    "        image.save(pdf_path, 'PDF', resolution=100.0)\n",
    "\n",
    "        print(f\"📄 Converted: {pdf_path}\")\n",
    "\n",
    "print(\"✅ All JPEGs converted to PDF.\")"
   ]
  }
 ],
 "metadata": {
  "kernelspec": {
   "display_name": "Python 3 (ipykernel)",
   "language": "python",
   "name": "python3"
  },
  "language_info": {
   "codemirror_mode": {
    "name": "ipython",
    "version": 3
   },
   "file_extension": ".py",
   "mimetype": "text/x-python",
   "name": "python",
   "nbconvert_exporter": "python",
   "pygments_lexer": "ipython3",
   "version": "3.10.6"
  }
 },
 "nbformat": 4,
 "nbformat_minor": 5
}
